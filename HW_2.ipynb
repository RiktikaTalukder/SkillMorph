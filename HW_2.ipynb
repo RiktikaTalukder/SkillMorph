{
  "nbformat": 4,
  "nbformat_minor": 0,
  "metadata": {
    "colab": {
      "provenance": []
    },
    "kernelspec": {
      "name": "python3",
      "display_name": "Python 3"
    },
    "language_info": {
      "name": "python"
    }
  },
  "cells": [
    {
      "cell_type": "markdown",
      "source": [
        "##**2.1 Create variables for your name, age, and favorite color, then print them with descriptive labels.**"
      ],
      "metadata": {
        "id": "55Z6As6IVi2A"
      }
    },
    {
      "cell_type": "code",
      "source": [
        "name = \"Riktika Talukder\"\n",
        "age = 22\n",
        "favourite_color = \"Maroon\"\n",
        "\n",
        "print(\"Myself \",name)\n",
        "print(\"i'm\",age,\"years old\")\n",
        "print(\"My favourite color is\",favourite_color)"
      ],
      "metadata": {
        "colab": {
          "base_uri": "https://localhost:8080/"
        },
        "id": "CZi2HEs6V2Fc",
        "outputId": "7b8f85ee-e3c6-45ca-b319-fd3b59b7ab33"
      },
      "execution_count": 3,
      "outputs": [
        {
          "output_type": "stream",
          "name": "stdout",
          "text": [
            "Myself  Riktika Talukder\n",
            "i'm 22 years old\n",
            "My favourite color is Maroon\n"
          ]
        }
      ]
    },
    {
      "cell_type": "markdown",
      "source": [
        "## **2.2 Create one variable of each type and use the type() function to verify its type.**"
      ],
      "metadata": {
        "id": "FNuSaOHuW7-w"
      }
    },
    {
      "cell_type": "code",
      "source": [
        "Name = \"Tori\"\n",
        "Age = 2\n",
        "school = None\n",
        "is_adult = False\n",
        "\n",
        "print(type(Name))\n",
        "print(type(Age))\n",
        "print(type(school))\n",
        "print(type(is_adult))"
      ],
      "metadata": {
        "colab": {
          "base_uri": "https://localhost:8080/"
        },
        "id": "fJcMRu5iXSWs",
        "outputId": "8c5cc2b7-c585-4373-e2fc-82c71bc6d8ca"
      },
      "execution_count": 2,
      "outputs": [
        {
          "output_type": "stream",
          "name": "stdout",
          "text": [
            "<class 'str'>\n",
            "<class 'int'>\n",
            "<class 'NoneType'>\n",
            "<class 'bool'>\n"
          ]
        }
      ]
    },
    {
      "cell_type": "markdown",
      "source": [
        "##**2.3 Calculate the area and perimeter of a rectangle with length 7 and width 5.**"
      ],
      "metadata": {
        "id": "QQv09oODZbZc"
      }
    },
    {
      "cell_type": "code",
      "source": [
        "length = 5\n",
        "width = 7\n",
        "\n",
        "area = length * width\n",
        "perimeter = 2 * (length + width)\n",
        "\n",
        "print(\"Area of the rectangle is:\",area)\n",
        "print(\"Perimeter of the rectangle is:\",perimeter)"
      ],
      "metadata": {
        "colab": {
          "base_uri": "https://localhost:8080/"
        },
        "id": "osjFBziBZoPZ",
        "outputId": "34e4efe6-4e5a-4250-da35-6ee4fafa1d8b"
      },
      "execution_count": 4,
      "outputs": [
        {
          "output_type": "stream",
          "name": "stdout",
          "text": [
            "Area of the rectangle is: 35\n",
            "Perimeter of the rectangle is: 24\n"
          ]
        }
      ]
    },
    {
      "cell_type": "markdown",
      "source": [
        "## **2.4 Create a list of 5 Bangladeshi foods, then access the first and last elements.**"
      ],
      "metadata": {
        "id": "cNdoxqqCazZP"
      }
    },
    {
      "cell_type": "code",
      "source": [
        "BangladeshiFruits = [\"Mango\",\"Jackfruit\",\"Guava\",\"lichi\",\"Jambul\"]\n",
        "\n",
        "print(BangladeshiFruits[0])\n",
        "print(BangladeshiFruits[-1])"
      ],
      "metadata": {
        "colab": {
          "base_uri": "https://localhost:8080/"
        },
        "id": "XSmq7wtqbAIO",
        "outputId": "b79f02af-a790-4acd-9668-1b2b9c1172a6"
      },
      "execution_count": 5,
      "outputs": [
        {
          "output_type": "stream",
          "name": "stdout",
          "text": [
            "Mango\n",
            "Jambul\n"
          ]
        }
      ]
    },
    {
      "cell_type": "markdown",
      "source": [
        "##**2.5 Create a list of 5 numbers, add a new number, remove one, and then sort the list.**"
      ],
      "metadata": {
        "id": "KBcFQ_J6b2Tx"
      }
    },
    {
      "cell_type": "code",
      "source": [
        "Numbers = [2,23,25,6,50]\n",
        "\n",
        "Numbers.append(1)\n",
        "Numbers.remove(23)\n",
        "Numbers.sort()\n",
        "\n",
        "print(Numbers)"
      ],
      "metadata": {
        "colab": {
          "base_uri": "https://localhost:8080/"
        },
        "id": "cpRvrtcXcFyQ",
        "outputId": "01c19782-c04c-4f0c-a928-5a775616b64f"
      },
      "execution_count": 7,
      "outputs": [
        {
          "output_type": "stream",
          "name": "stdout",
          "text": [
            "[1, 2, 6, 25, 50]\n"
          ]
        }
      ]
    },
    {
      "cell_type": "markdown",
      "source": [
        "# **2.6 Create a dictionary about yourself with at least 4 key-value pairs.**"
      ],
      "metadata": {
        "id": "W5G1ymrPrlTh"
      }
    },
    {
      "cell_type": "code",
      "source": [
        "Student = {\n",
        "    \"Name\" : \"Riktika Talukder\",\n",
        "    \"Email\" : \"riktikatalukder@gmail.com\",\n",
        "    \"University\" : \"International Islamic University of Chittagong\",\n",
        "    \"Department\" : \"Computer Science and Engineering\",\n",
        "    \"Semester\" : \"7th\",\n",
        "    \"Courses\" : [\"C\", \"C++\", \"Python\", \"Artificial Intelligence\", \"Machine Learning\"]\n",
        "}\n",
        "print(Student)"
      ],
      "metadata": {
        "colab": {
          "base_uri": "https://localhost:8080/"
        },
        "id": "oRFVhSfmrvTm",
        "outputId": "8362234f-6d5c-4fa4-87a3-a0f4862f5a96"
      },
      "execution_count": 14,
      "outputs": [
        {
          "output_type": "stream",
          "name": "stdout",
          "text": [
            "{'Name': 'Riktika Talukder', 'Email': 'riktikatalukder@gmail.com', 'University': 'International Islamic University of Chittagong', 'Department': 'Computer Science and Engineering', 'Semester': '7th', 'Courses': ['C', 'C++', 'Python', 'Artificial Intelligence', 'Machine Learning']}\n"
          ]
        }
      ]
    },
    {
      "cell_type": "markdown",
      "source": [
        "# **2.7 Create a tuple with the latitude and longitude of a famous place in Bangladesh**"
      ],
      "metadata": {
        "id": "V1e6zObvue4h"
      }
    },
    {
      "cell_type": "code",
      "source": [
        "tuple = (\"Cox's Bazar\",\"21.43973\",\"92.00955\")\n",
        "\n",
        "print(\"The latitude and longitude of\",tuple[0],\"is\",tuple[1],\"and\",tuple[2])"
      ],
      "metadata": {
        "colab": {
          "base_uri": "https://localhost:8080/"
        },
        "id": "zOK0J0FluqQi",
        "outputId": "8daf8eb3-13f8-40ac-92d7-7cbef095dad4"
      },
      "execution_count": 15,
      "outputs": [
        {
          "output_type": "stream",
          "name": "stdout",
          "text": [
            "The latitude and longitude of Cox's Bazar is 21.43973 and 92.00955\n"
          ]
        }
      ]
    },
    {
      "cell_type": "markdown",
      "source": [
        "# **2.8 Create two sets of colors and find their union and intersection.**"
      ],
      "metadata": {
        "id": "0o__DQ-ZwEtN"
      }
    },
    {
      "cell_type": "code",
      "source": [
        "primaryColors = {\"Red\",\"Blue\",\"Yellow\"}\n",
        "rainbowColors = {\"Red\",\"Orange\",\"Yellow\",\"Green\",\"Blue\",\"Indigo\",\"Violet\"}\n",
        "\n",
        "Union = primaryColors | rainbowColors\n",
        "Intersection = primaryColors & rainbowColors\n",
        "\n",
        "print(\"Union of primaryColors and rainbowColors is:\",Union)\n",
        "print(\"Intersection of primaryColors and rainbowColors is:\",Intersection)"
      ],
      "metadata": {
        "colab": {
          "base_uri": "https://localhost:8080/"
        },
        "id": "R3JrQ8KvwYIK",
        "outputId": "4dd218fb-a356-44dc-a79b-bdc278b0f7c8"
      },
      "execution_count": 16,
      "outputs": [
        {
          "output_type": "stream",
          "name": "stdout",
          "text": [
            "Union of primaryColors and rainbowColors is: {'Violet', 'Indigo', 'Red', 'Blue', 'Orange', 'Yellow', 'Green'}\n",
            "Intersection of primaryColors and rainbowColors is: {'Yellow', 'Red', 'Blue'}\n"
          ]
        }
      ]
    },
    {
      "cell_type": "markdown",
      "source": [
        "# **2.9 Write a program that checks if a number is positive, negative, or zero**"
      ],
      "metadata": {
        "id": "m7Fb2qeFzZeb"
      }
    },
    {
      "cell_type": "code",
      "source": [
        "number = int(input(\"Enter a number:\"))\n",
        "\n",
        "if number > 0:\n",
        "  print(\"The number is positive.\")\n",
        "\n",
        "elif number < 0:\n",
        "  print(\"The number is negative.\")\n",
        "\n",
        "else:\n",
        "  print(\"The number is zero.\")"
      ],
      "metadata": {
        "colab": {
          "base_uri": "https://localhost:8080/"
        },
        "id": "vUdIu0Njzupz",
        "outputId": "418d20e3-d009-489d-9376-d2ed7c7811c9"
      },
      "execution_count": 21,
      "outputs": [
        {
          "output_type": "stream",
          "name": "stdout",
          "text": [
            "Enter a number:-9\n",
            "The number is negative.\n"
          ]
        }
      ]
    },
    {
      "cell_type": "markdown",
      "source": [
        "# **2.10 Write a program that checks eligibility for a discount (student AND under 25, OR senior over 60).**"
      ],
      "metadata": {
        "id": "7G_xGh8r1SDI"
      }
    },
    {
      "cell_type": "code",
      "source": [
        "role = input(\"Role? (student/senior)\")\n",
        "age = int(input(\"Enter your age:\"))\n",
        "\n",
        "if (role == \"student\" and age < 25) or (role == \"senior\" and age > 60):\n",
        "  print(\"Eligible\")\n",
        "else:\n",
        "  print(\"Not eligible\")"
      ],
      "metadata": {
        "colab": {
          "base_uri": "https://localhost:8080/"
        },
        "id": "9ylJTeOQ1c2h",
        "outputId": "84a4a5df-c42e-4b77-ec30-06da46585e49"
      },
      "execution_count": 33,
      "outputs": [
        {
          "output_type": "stream",
          "name": "stdout",
          "text": [
            "Role? (student/senior)student\n",
            "Enter your age:15\n",
            "Eligible\n"
          ]
        }
      ]
    },
    {
      "cell_type": "markdown",
      "source": [
        "# **2.11 Write a program that prints the first 10 even numbers using a for or while loop.**"
      ],
      "metadata": {
        "id": "u3t4LdAc455u"
      }
    },
    {
      "cell_type": "code",
      "source": [
        "num = 0\n",
        "for i in range (1,100):\n",
        "   if i % 2 == 0:\n",
        "    num += 1\n",
        "    print(i)\n",
        "    if num >= 10:\n",
        "      break"
      ],
      "metadata": {
        "colab": {
          "base_uri": "https://localhost:8080/"
        },
        "id": "xGVuAGiH5i5S",
        "outputId": "d1414528-4ddc-4da8-ee79-612e2eec6710"
      },
      "execution_count": 56,
      "outputs": [
        {
          "output_type": "stream",
          "name": "stdout",
          "text": [
            "2\n",
            "4\n",
            "6\n",
            "8\n",
            "10\n",
            "12\n",
            "14\n",
            "16\n",
            "18\n",
            "20\n"
          ]
        }
      ]
    },
    {
      "cell_type": "markdown",
      "source": [
        "# **2.12 Write a program that prints a simple number pyramid pattern using nested loops.**"
      ],
      "metadata": {
        "id": "MA1fNCmv7Lk_"
      }
    },
    {
      "cell_type": "code",
      "source": [
        "rows = int(input(\"Enter number of rows:\"))\n",
        "\n",
        "for i in range(1,rows+1):\n",
        "  for space in range(rows-i):\n",
        "    print(\" \", end=\" \")\n",
        "\n",
        "  for num in range(1,2*i):\n",
        "    print(num, end=\" \")\n",
        "  print()"
      ],
      "metadata": {
        "colab": {
          "base_uri": "https://localhost:8080/"
        },
        "collapsed": true,
        "id": "6uBkkaNl7LOK",
        "outputId": "9d70ac08-4529-4150-cc48-b19aaea23f77"
      },
      "execution_count": 68,
      "outputs": [
        {
          "output_type": "stream",
          "name": "stdout",
          "text": [
            "Enter number of rows:5\n",
            "        1 \n",
            "      1 2 3 \n",
            "    1 2 3 4 5 \n",
            "  1 2 3 4 5 6 7 \n",
            "1 2 3 4 5 6 7 8 9 \n"
          ]
        }
      ]
    },
    {
      "cell_type": "markdown",
      "source": [
        "# **2.13 Create a function that converts temperature from Celsius to Fahrenheit using the formula: F = (C × 9/5) + 32**"
      ],
      "metadata": {
        "id": "SviIeCauIiRJ"
      }
    },
    {
      "cell_type": "code",
      "source": [
        "temperature = float(input(\"Enter temperature in Celsius:\"))\n",
        "\n",
        "def conversion(temperature):\n",
        "  return (temperature * 9/5) + 32\n",
        "\n",
        "print(\"Temperature in Fahrenheit is:\",conversion(temperature))\n"
      ],
      "metadata": {
        "colab": {
          "base_uri": "https://localhost:8080/"
        },
        "id": "uxPQlqOIIzsR",
        "outputId": "98c153d9-6971-48ac-9dde-fdf71379bdce"
      },
      "execution_count": 70,
      "outputs": [
        {
          "output_type": "stream",
          "name": "stdout",
          "text": [
            "Enter temperature in Celsius:23\n",
            "Temperature in Fahrenheit is: 73.4\n"
          ]
        }
      ]
    },
    {
      "cell_type": "markdown",
      "source": [
        "# **2.14 Create a function with default parameters that calculates the area of a rectangle.**"
      ],
      "metadata": {
        "id": "iY5eykuQJs04"
      }
    },
    {
      "cell_type": "code",
      "source": [
        "def area(length = 5, width = 7):\n",
        "  return length * width\n",
        "\n",
        "print(\"The area of the rectangle is:\",area())"
      ],
      "metadata": {
        "colab": {
          "base_uri": "https://localhost:8080/"
        },
        "id": "kTcvP8QSKWjj",
        "outputId": "c57356b6-0f92-40f7-8457-fa1dfd1ac683"
      },
      "execution_count": 71,
      "outputs": [
        {
          "output_type": "stream",
          "name": "stdout",
          "text": [
            "The area of the rectangle is: 35\n"
          ]
        }
      ]
    }
  ]
}